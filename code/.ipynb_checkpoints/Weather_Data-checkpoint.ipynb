{
 "cells": [
  {
   "cell_type": "code",
   "execution_count": 1,
   "id": "7177a708-168e-4665-af2b-f324181c1c29",
   "metadata": {},
   "outputs": [],
   "source": [
    "import pandas as pd\n",
    "import numpy as np\n",
    "import matplotlib.pyplot as plt\n",
    "\n",
    "import seaborn as sns\n",
    "\n",
    "\n",
    "sns.set_style(\"whitegrid\")"
   ]
  },
  {
   "cell_type": "markdown",
   "id": "ef439762-7ba4-40d6-b8ed-b11058f0e01c",
   "metadata": {},
   "source": [
    "# Load the Seattle and Miami data set"
   ]
  },
  {
   "cell_type": "code",
   "execution_count": 2,
   "id": "c8548c34-6937-40b9-aa16-413b5f90899f",
   "metadata": {},
   "outputs": [],
   "source": [
    "df_seattle = pd.read_csv(\n",
    "    'https://raw.githubusercontent.com/brian-fischer/DATA-5100/main/weather/seattle_rain.csv'\n",
    ")"
   ]
  },
  {
   "cell_type": "code",
   "execution_count": 3,
   "id": "8935574f-857e-4373-8e41-6771571e288e",
   "metadata": {},
   "outputs": [],
   "source": [
    "df_miami = pd.read_csv('https://www.ncei.noaa.gov/orders/cdo/4136991.csv')\n"
   ]
  },
  {
   "cell_type": "code",
   "execution_count": 4,
   "id": "4eac9570-9bb3-4cb5-90d6-c67e343cf9de",
   "metadata": {},
   "outputs": [
    {
     "data": {
      "text/html": [
       "<div>\n",
       "<style scoped>\n",
       "    .dataframe tbody tr th:only-of-type {\n",
       "        vertical-align: middle;\n",
       "    }\n",
       "\n",
       "    .dataframe tbody tr th {\n",
       "        vertical-align: top;\n",
       "    }\n",
       "\n",
       "    .dataframe thead th {\n",
       "        text-align: right;\n",
       "    }\n",
       "</style>\n",
       "<table border=\"1\" class=\"dataframe\">\n",
       "  <thead>\n",
       "    <tr style=\"text-align: right;\">\n",
       "      <th></th>\n",
       "      <th>STATION</th>\n",
       "      <th>NAME</th>\n",
       "      <th>DATE</th>\n",
       "      <th>DAPR</th>\n",
       "      <th>MDPR</th>\n",
       "      <th>PRCP</th>\n",
       "      <th>SNOW</th>\n",
       "      <th>SNWD</th>\n",
       "      <th>WESD</th>\n",
       "      <th>WESF</th>\n",
       "    </tr>\n",
       "  </thead>\n",
       "  <tbody>\n",
       "    <tr>\n",
       "      <th>0</th>\n",
       "      <td>US1WAKG0225</td>\n",
       "      <td>SEATTLE 2.1 ESE, WA US</td>\n",
       "      <td>1/1/18</td>\n",
       "      <td>NaN</td>\n",
       "      <td>NaN</td>\n",
       "      <td>0.00</td>\n",
       "      <td>NaN</td>\n",
       "      <td>NaN</td>\n",
       "      <td>NaN</td>\n",
       "      <td>NaN</td>\n",
       "    </tr>\n",
       "    <tr>\n",
       "      <th>1</th>\n",
       "      <td>US1WAKG0225</td>\n",
       "      <td>SEATTLE 2.1 ESE, WA US</td>\n",
       "      <td>1/2/18</td>\n",
       "      <td>NaN</td>\n",
       "      <td>NaN</td>\n",
       "      <td>0.00</td>\n",
       "      <td>NaN</td>\n",
       "      <td>NaN</td>\n",
       "      <td>NaN</td>\n",
       "      <td>NaN</td>\n",
       "    </tr>\n",
       "    <tr>\n",
       "      <th>2</th>\n",
       "      <td>US1WAKG0225</td>\n",
       "      <td>SEATTLE 2.1 ESE, WA US</td>\n",
       "      <td>1/3/18</td>\n",
       "      <td>NaN</td>\n",
       "      <td>NaN</td>\n",
       "      <td>0.00</td>\n",
       "      <td>NaN</td>\n",
       "      <td>NaN</td>\n",
       "      <td>NaN</td>\n",
       "      <td>NaN</td>\n",
       "    </tr>\n",
       "    <tr>\n",
       "      <th>3</th>\n",
       "      <td>US1WAKG0225</td>\n",
       "      <td>SEATTLE 2.1 ESE, WA US</td>\n",
       "      <td>1/4/18</td>\n",
       "      <td>NaN</td>\n",
       "      <td>NaN</td>\n",
       "      <td>0.00</td>\n",
       "      <td>NaN</td>\n",
       "      <td>NaN</td>\n",
       "      <td>NaN</td>\n",
       "      <td>NaN</td>\n",
       "    </tr>\n",
       "    <tr>\n",
       "      <th>4</th>\n",
       "      <td>US1WAKG0225</td>\n",
       "      <td>SEATTLE 2.1 ESE, WA US</td>\n",
       "      <td>1/5/18</td>\n",
       "      <td>NaN</td>\n",
       "      <td>NaN</td>\n",
       "      <td>0.25</td>\n",
       "      <td>NaN</td>\n",
       "      <td>NaN</td>\n",
       "      <td>NaN</td>\n",
       "      <td>NaN</td>\n",
       "    </tr>\n",
       "    <tr>\n",
       "      <th>5</th>\n",
       "      <td>US1WAKG0225</td>\n",
       "      <td>SEATTLE 2.1 ESE, WA US</td>\n",
       "      <td>1/6/18</td>\n",
       "      <td>NaN</td>\n",
       "      <td>NaN</td>\n",
       "      <td>0.57</td>\n",
       "      <td>NaN</td>\n",
       "      <td>NaN</td>\n",
       "      <td>NaN</td>\n",
       "      <td>NaN</td>\n",
       "    </tr>\n",
       "    <tr>\n",
       "      <th>6</th>\n",
       "      <td>US1WAKG0225</td>\n",
       "      <td>SEATTLE 2.1 ESE, WA US</td>\n",
       "      <td>1/7/18</td>\n",
       "      <td>NaN</td>\n",
       "      <td>NaN</td>\n",
       "      <td>0.23</td>\n",
       "      <td>NaN</td>\n",
       "      <td>NaN</td>\n",
       "      <td>NaN</td>\n",
       "      <td>NaN</td>\n",
       "    </tr>\n",
       "    <tr>\n",
       "      <th>7</th>\n",
       "      <td>US1WAKG0225</td>\n",
       "      <td>SEATTLE 2.1 ESE, WA US</td>\n",
       "      <td>1/8/18</td>\n",
       "      <td>NaN</td>\n",
       "      <td>NaN</td>\n",
       "      <td>0.41</td>\n",
       "      <td>NaN</td>\n",
       "      <td>NaN</td>\n",
       "      <td>NaN</td>\n",
       "      <td>NaN</td>\n",
       "    </tr>\n",
       "    <tr>\n",
       "      <th>8</th>\n",
       "      <td>US1WAKG0225</td>\n",
       "      <td>SEATTLE 2.1 ESE, WA US</td>\n",
       "      <td>3/12/18</td>\n",
       "      <td>NaN</td>\n",
       "      <td>NaN</td>\n",
       "      <td>0.00</td>\n",
       "      <td>NaN</td>\n",
       "      <td>NaN</td>\n",
       "      <td>NaN</td>\n",
       "      <td>NaN</td>\n",
       "    </tr>\n",
       "    <tr>\n",
       "      <th>9</th>\n",
       "      <td>US1WAKG0225</td>\n",
       "      <td>SEATTLE 2.1 ESE, WA US</td>\n",
       "      <td>3/13/18</td>\n",
       "      <td>NaN</td>\n",
       "      <td>NaN</td>\n",
       "      <td>0.00</td>\n",
       "      <td>NaN</td>\n",
       "      <td>NaN</td>\n",
       "      <td>NaN</td>\n",
       "      <td>NaN</td>\n",
       "    </tr>\n",
       "  </tbody>\n",
       "</table>\n",
       "</div>"
      ],
      "text/plain": [
       "       STATION                    NAME     DATE  DAPR  MDPR  PRCP  SNOW  SNWD  \\\n",
       "0  US1WAKG0225  SEATTLE 2.1 ESE, WA US   1/1/18   NaN   NaN  0.00   NaN   NaN   \n",
       "1  US1WAKG0225  SEATTLE 2.1 ESE, WA US   1/2/18   NaN   NaN  0.00   NaN   NaN   \n",
       "2  US1WAKG0225  SEATTLE 2.1 ESE, WA US   1/3/18   NaN   NaN  0.00   NaN   NaN   \n",
       "3  US1WAKG0225  SEATTLE 2.1 ESE, WA US   1/4/18   NaN   NaN  0.00   NaN   NaN   \n",
       "4  US1WAKG0225  SEATTLE 2.1 ESE, WA US   1/5/18   NaN   NaN  0.25   NaN   NaN   \n",
       "5  US1WAKG0225  SEATTLE 2.1 ESE, WA US   1/6/18   NaN   NaN  0.57   NaN   NaN   \n",
       "6  US1WAKG0225  SEATTLE 2.1 ESE, WA US   1/7/18   NaN   NaN  0.23   NaN   NaN   \n",
       "7  US1WAKG0225  SEATTLE 2.1 ESE, WA US   1/8/18   NaN   NaN  0.41   NaN   NaN   \n",
       "8  US1WAKG0225  SEATTLE 2.1 ESE, WA US  3/12/18   NaN   NaN  0.00   NaN   NaN   \n",
       "9  US1WAKG0225  SEATTLE 2.1 ESE, WA US  3/13/18   NaN   NaN  0.00   NaN   NaN   \n",
       "\n",
       "   WESD  WESF  \n",
       "0   NaN   NaN  \n",
       "1   NaN   NaN  \n",
       "2   NaN   NaN  \n",
       "3   NaN   NaN  \n",
       "4   NaN   NaN  \n",
       "5   NaN   NaN  \n",
       "6   NaN   NaN  \n",
       "7   NaN   NaN  \n",
       "8   NaN   NaN  \n",
       "9   NaN   NaN  "
      ]
     },
     "execution_count": 4,
     "metadata": {},
     "output_type": "execute_result"
    }
   ],
   "source": [
    "df_seattle.head(10)"
   ]
  },
  {
   "cell_type": "markdown",
   "id": "ceae2b26-54fb-4b81-9295-7a5ccee69acb",
   "metadata": {},
   "source": [
    "# Checking the data types, size of data frame, and numbers of missing values."
   ]
  },
  {
   "cell_type": "code",
   "execution_count": 5,
   "id": "2358d710-9871-40b7-b53a-e9f70d5883f7",
   "metadata": {},
   "outputs": [
    {
     "name": "stdout",
     "output_type": "stream",
     "text": [
      "<class 'pandas.core.frame.DataFrame'>\n",
      "RangeIndex: 1658 entries, 0 to 1657\n",
      "Data columns (total 10 columns):\n",
      " #   Column   Non-Null Count  Dtype  \n",
      "---  ------   --------------  -----  \n",
      " 0   STATION  1658 non-null   object \n",
      " 1   NAME     1658 non-null   object \n",
      " 2   DATE     1658 non-null   object \n",
      " 3   DAPR     23 non-null     float64\n",
      " 4   MDPR     23 non-null     float64\n",
      " 5   PRCP     1636 non-null   float64\n",
      " 6   SNOW     353 non-null    float64\n",
      " 7   SNWD     66 non-null     float64\n",
      " 8   WESD     15 non-null     float64\n",
      " 9   WESF     28 non-null     float64\n",
      "dtypes: float64(7), object(3)\n",
      "memory usage: 129.7+ KB\n"
     ]
    }
   ],
   "source": [
    "df_seattle.info()"
   ]
  },
  {
   "cell_type": "code",
   "execution_count": 6,
   "id": "728ea94f-eef8-423a-b8ec-2e2537ddaaa7",
   "metadata": {},
   "outputs": [
    {
     "name": "stdout",
     "output_type": "stream",
     "text": [
      "<class 'pandas.core.frame.DataFrame'>\n",
      "RangeIndex: 45210 entries, 0 to 45209\n",
      "Data columns (total 8 columns):\n",
      " #   Column   Non-Null Count  Dtype  \n",
      "---  ------   --------------  -----  \n",
      " 0   STATION  45210 non-null  object \n",
      " 1   NAME     45210 non-null  object \n",
      " 2   DATE     45210 non-null  object \n",
      " 3   DAPR     751 non-null    float64\n",
      " 4   MDPR     748 non-null    float64\n",
      " 5   PRCP     44424 non-null  float64\n",
      " 6   SNOW     17770 non-null  float64\n",
      " 7   SNWD     2757 non-null   float64\n",
      "dtypes: float64(5), object(3)\n",
      "memory usage: 2.8+ MB\n"
     ]
    }
   ],
   "source": [
    "df_miami.info()"
   ]
  },
  {
   "cell_type": "markdown",
   "id": "f6504bab-8606-4e89-a29b-e69379e4ca03",
   "metadata": {},
   "source": [
    "The output shows information about the Seattle and Miami weather datasets, including their size, data types, and missing values. The Seattle dataset contains 1,658 entries with 10 columns, while the Miami dataset is much larger, with 45,210 entries and 8 columns. Most of the columns are numerical, and a few are text-based. Although there are several weather measurments, the only one we care about for this analysis is precipitation (PRCP), which represents daily rainfall. Both datasets include some missing values, but overall they provide enough precipitation data to compare weather patterns between the two cities."
   ]
  },
  {
   "cell_type": "markdown",
   "id": "350f5aa8-4423-4e03-b6d1-97ef4f125494",
   "metadata": {},
   "source": [
    "# Checking how many unique stations are present in the Miami data set"
   ]
  },
  {
   "cell_type": "code",
   "execution_count": 7,
   "id": "e67c0fd9-0409-403a-b5df-8b37d22ca0eb",
   "metadata": {},
   "outputs": [
    {
     "data": {
      "text/plain": [
       "46"
      ]
     },
     "execution_count": 7,
     "metadata": {},
     "output_type": "execute_result"
    }
   ],
   "source": [
    "df_miami['STATION'].nunique()"
   ]
  },
  {
   "cell_type": "markdown",
   "id": "eb845fc5-0d76-4af4-b5fc-eb77943216ae",
   "metadata": {},
   "source": [
    "There are 46 unique stations in the Miami data set"
   ]
  },
  {
   "cell_type": "markdown",
   "id": "740c5710-9416-468c-bdcc-cbbd65d930a5",
   "metadata": {},
   "source": [
    "Selecting only one station in the Miami date set"
   ]
  },
  {
   "cell_type": "code",
   "execution_count": 8,
   "id": "c87a25b3-f71f-4688-bfad-f8ed9108fa98",
   "metadata": {},
   "outputs": [
    {
     "data": {
      "text/plain": [
       "array(['US1FLMD0007'], dtype=object)"
      ]
     },
     "execution_count": 8,
     "metadata": {},
     "output_type": "execute_result"
    }
   ],
   "source": [
    "df_miami['NAME'] == 'SUNSET 2.4 SW, FL US'\n",
    "df_miami = df_miami.loc[df_miami['NAME'] == 'SUNSET 2.4 SW, FL US']\n",
    "df_miami['STATION'].unique()"
   ]
  },
  {
   "cell_type": "markdown",
   "id": "2a610529-17e8-464d-89e8-49d4d8c7b39c",
   "metadata": {},
   "source": [
    "# Examining the DATE column, converting it into the correct data types, and changing the rage of dates that are present"
   ]
  },
  {
   "cell_type": "code",
   "execution_count": 9,
   "id": "0461c31c-5d9b-4bbd-87c9-651f56846ba7",
   "metadata": {},
   "outputs": [
    {
     "data": {
      "text/plain": [
       "1       2018-01-01\n",
       "2       2018-01-02\n",
       "3       2018-01-03\n",
       "4       2018-01-04\n",
       "5       2018-01-05\n",
       "           ...    \n",
       "1806    2022-12-27\n",
       "1807    2022-12-28\n",
       "1808    2022-12-29\n",
       "1809    2022-12-30\n",
       "1810    2022-12-31\n",
       "Name: DATE, Length: 1810, dtype: object"
      ]
     },
     "execution_count": 9,
     "metadata": {},
     "output_type": "execute_result"
    }
   ],
   "source": [
    "df_miami['DATE']"
   ]
  },
  {
   "cell_type": "code",
   "execution_count": 10,
   "id": "d58b22fc-af3a-4ea0-b874-13d88421d52a",
   "metadata": {},
   "outputs": [
    {
     "data": {
      "text/plain": [
       "1806    2022-12-27\n",
       "1807    2022-12-28\n",
       "1808    2022-12-29\n",
       "1809    2022-12-30\n",
       "1810    2022-12-31\n",
       "Name: DATE, dtype: object"
      ]
     },
     "execution_count": 10,
     "metadata": {},
     "output_type": "execute_result"
    }
   ],
   "source": [
    "df_miami['DATE'].tail()"
   ]
  },
  {
   "cell_type": "code",
   "execution_count": 11,
   "id": "36be6641-bcbf-415f-a20c-2b4adcf7a022",
   "metadata": {},
   "outputs": [
    {
     "name": "stderr",
     "output_type": "stream",
     "text": [
      "/var/folders/c_/xvyl08rd0w152pky7b5zssvw0000gn/T/ipykernel_33468/3087519436.py:1: UserWarning: Could not infer format, so each element will be parsed individually, falling back to `dateutil`. To ensure parsing is consistent and as-expected, please specify a format.\n",
      "  df_seattle['DATE'] = pd.to_datetime(df_seattle['DATE'])\n"
     ]
    }
   ],
   "source": [
    "df_seattle['DATE'] = pd.to_datetime(df_seattle['DATE'])"
   ]
  },
  {
   "cell_type": "code",
   "execution_count": 12,
   "id": "a0ed9ea9-e6ef-471b-83ad-be86bcb00ab6",
   "metadata": {},
   "outputs": [],
   "source": [
    "df_miami['DATE'] = pd.to_datetime(df_miami['DATE'])"
   ]
  },
  {
   "cell_type": "code",
   "execution_count": 13,
   "id": "aef4b6a5-9d80-4efe-912c-f485aad94272",
   "metadata": {},
   "outputs": [
    {
     "data": {
      "text/plain": [
       "0      2018-01-01\n",
       "1      2018-01-02\n",
       "2      2018-01-03\n",
       "3      2018-01-04\n",
       "4      2018-01-05\n",
       "          ...    \n",
       "1653   2022-12-27\n",
       "1654   2022-12-28\n",
       "1655   2022-12-29\n",
       "1656   2022-12-30\n",
       "1657   2022-12-31\n",
       "Name: DATE, Length: 1658, dtype: datetime64[ns]"
      ]
     },
     "execution_count": 13,
     "metadata": {},
     "output_type": "execute_result"
    }
   ],
   "source": [
    "df_seattle['DATE']"
   ]
  },
  {
   "cell_type": "code",
   "execution_count": 14,
   "id": "fcdf1565-bd89-4470-989b-02e7b26a6a44",
   "metadata": {},
   "outputs": [
    {
     "data": {
      "text/plain": [
       "1      2018-01-01\n",
       "2      2018-01-02\n",
       "3      2018-01-03\n",
       "4      2018-01-04\n",
       "5      2018-01-05\n",
       "          ...    \n",
       "1806   2022-12-27\n",
       "1807   2022-12-28\n",
       "1808   2022-12-29\n",
       "1809   2022-12-30\n",
       "1810   2022-12-31\n",
       "Name: DATE, Length: 1810, dtype: datetime64[ns]"
      ]
     },
     "execution_count": 14,
     "metadata": {},
     "output_type": "execute_result"
    }
   ],
   "source": [
    "df_miami['DATE']"
   ]
  },
  {
   "cell_type": "code",
   "execution_count": 15,
   "id": "d352e4b1-475e-40d0-abc3-5f54cd4338b9",
   "metadata": {},
   "outputs": [
    {
     "data": {
      "text/plain": [
       "min   2018-01-01\n",
       "max   2022-12-31\n",
       "Name: DATE, dtype: datetime64[ns]"
      ]
     },
     "execution_count": 15,
     "metadata": {},
     "output_type": "execute_result"
    }
   ],
   "source": [
    "df_seattle['DATE'].agg(['min', 'max'])"
   ]
  },
  {
   "cell_type": "code",
   "execution_count": 16,
   "id": "0d6cdbcf-6135-4133-9ed8-d708b9dec75b",
   "metadata": {},
   "outputs": [
    {
     "data": {
      "text/plain": [
       "min   2018-01-01\n",
       "max   2022-12-31\n",
       "Name: DATE, dtype: datetime64[ns]"
      ]
     },
     "execution_count": 16,
     "metadata": {},
     "output_type": "execute_result"
    }
   ],
   "source": [
    "df_miami['DATE'].agg(['min', 'max'])"
   ]
  },
  {
   "cell_type": "code",
   "execution_count": 17,
   "id": "bd4f0120-9457-43e0-b385-c0211a054421",
   "metadata": {},
   "outputs": [],
   "source": [
    "df_miami = df_miami.loc[df_miami['DATE'] >= '2018-01-01']"
   ]
  },
  {
   "cell_type": "code",
   "execution_count": 18,
   "id": "c60d4b76-a6b5-4242-a752-5e48b30a6d36",
   "metadata": {},
   "outputs": [
    {
     "data": {
      "text/html": [
       "<div>\n",
       "<style scoped>\n",
       "    .dataframe tbody tr th:only-of-type {\n",
       "        vertical-align: middle;\n",
       "    }\n",
       "\n",
       "    .dataframe tbody tr th {\n",
       "        vertical-align: top;\n",
       "    }\n",
       "\n",
       "    .dataframe thead th {\n",
       "        text-align: right;\n",
       "    }\n",
       "</style>\n",
       "<table border=\"1\" class=\"dataframe\">\n",
       "  <thead>\n",
       "    <tr style=\"text-align: right;\">\n",
       "      <th></th>\n",
       "      <th>STATION</th>\n",
       "      <th>NAME</th>\n",
       "      <th>DATE</th>\n",
       "      <th>DAPR</th>\n",
       "      <th>MDPR</th>\n",
       "      <th>PRCP</th>\n",
       "      <th>SNOW</th>\n",
       "      <th>SNWD</th>\n",
       "    </tr>\n",
       "  </thead>\n",
       "  <tbody>\n",
       "    <tr>\n",
       "      <th>1</th>\n",
       "      <td>US1FLMD0007</td>\n",
       "      <td>SUNSET 2.4 SW, FL US</td>\n",
       "      <td>2018-01-01</td>\n",
       "      <td>NaN</td>\n",
       "      <td>NaN</td>\n",
       "      <td>0.00</td>\n",
       "      <td>0.0</td>\n",
       "      <td>NaN</td>\n",
       "    </tr>\n",
       "    <tr>\n",
       "      <th>2</th>\n",
       "      <td>US1FLMD0007</td>\n",
       "      <td>SUNSET 2.4 SW, FL US</td>\n",
       "      <td>2018-01-02</td>\n",
       "      <td>NaN</td>\n",
       "      <td>NaN</td>\n",
       "      <td>0.00</td>\n",
       "      <td>NaN</td>\n",
       "      <td>NaN</td>\n",
       "    </tr>\n",
       "    <tr>\n",
       "      <th>3</th>\n",
       "      <td>US1FLMD0007</td>\n",
       "      <td>SUNSET 2.4 SW, FL US</td>\n",
       "      <td>2018-01-03</td>\n",
       "      <td>NaN</td>\n",
       "      <td>NaN</td>\n",
       "      <td>0.48</td>\n",
       "      <td>NaN</td>\n",
       "      <td>NaN</td>\n",
       "    </tr>\n",
       "    <tr>\n",
       "      <th>4</th>\n",
       "      <td>US1FLMD0007</td>\n",
       "      <td>SUNSET 2.4 SW, FL US</td>\n",
       "      <td>2018-01-04</td>\n",
       "      <td>NaN</td>\n",
       "      <td>NaN</td>\n",
       "      <td>0.07</td>\n",
       "      <td>NaN</td>\n",
       "      <td>NaN</td>\n",
       "    </tr>\n",
       "    <tr>\n",
       "      <th>5</th>\n",
       "      <td>US1FLMD0007</td>\n",
       "      <td>SUNSET 2.4 SW, FL US</td>\n",
       "      <td>2018-01-05</td>\n",
       "      <td>NaN</td>\n",
       "      <td>NaN</td>\n",
       "      <td>0.00</td>\n",
       "      <td>NaN</td>\n",
       "      <td>NaN</td>\n",
       "    </tr>\n",
       "  </tbody>\n",
       "</table>\n",
       "</div>"
      ],
      "text/plain": [
       "       STATION                  NAME       DATE  DAPR  MDPR  PRCP  SNOW  SNWD\n",
       "1  US1FLMD0007  SUNSET 2.4 SW, FL US 2018-01-01   NaN   NaN  0.00   0.0   NaN\n",
       "2  US1FLMD0007  SUNSET 2.4 SW, FL US 2018-01-02   NaN   NaN  0.00   NaN   NaN\n",
       "3  US1FLMD0007  SUNSET 2.4 SW, FL US 2018-01-03   NaN   NaN  0.48   NaN   NaN\n",
       "4  US1FLMD0007  SUNSET 2.4 SW, FL US 2018-01-04   NaN   NaN  0.07   NaN   NaN\n",
       "5  US1FLMD0007  SUNSET 2.4 SW, FL US 2018-01-05   NaN   NaN  0.00   NaN   NaN"
      ]
     },
     "execution_count": 18,
     "metadata": {},
     "output_type": "execute_result"
    }
   ],
   "source": [
    "df_miami.head()"
   ]
  },
  {
   "cell_type": "markdown",
   "id": "37650715-5b10-4036-8298-949a274ed917",
   "metadata": {},
   "source": [
    "# Joining both data frames, keeping DATE and PRCP columns"
   ]
  },
  {
   "cell_type": "markdown",
   "id": "9016b0fa-3540-490b-8b66-3097033071d3",
   "metadata": {},
   "source": [
    "Performing an outer join"
   ]
  },
  {
   "cell_type": "code",
   "execution_count": 19,
   "id": "cb3ee0d2-0f63-4c4a-80ea-ef161544dfe6",
   "metadata": {},
   "outputs": [],
   "source": [
    "df = df_miami[['DATE', 'PRCP']].merge(df_seattle[['DATE', 'PRCP']], on='DATE', how='outer')"
   ]
  },
  {
   "cell_type": "code",
   "execution_count": 20,
   "id": "3eead49c-4a9b-4577-b71f-960bca2603fb",
   "metadata": {},
   "outputs": [],
   "source": [
    "df = pd.melt(df, id_vars='DATE', var_name='city', value_name='precipitation')"
   ]
  },
  {
   "cell_type": "code",
   "execution_count": 21,
   "id": "1b3a1b1a-e858-40e8-8d05-5eb64429a718",
   "metadata": {},
   "outputs": [
    {
     "data": {
      "text/html": [
       "<div>\n",
       "<style scoped>\n",
       "    .dataframe tbody tr th:only-of-type {\n",
       "        vertical-align: middle;\n",
       "    }\n",
       "\n",
       "    .dataframe tbody tr th {\n",
       "        vertical-align: top;\n",
       "    }\n",
       "\n",
       "    .dataframe thead th {\n",
       "        text-align: right;\n",
       "    }\n",
       "</style>\n",
       "<table border=\"1\" class=\"dataframe\">\n",
       "  <thead>\n",
       "    <tr style=\"text-align: right;\">\n",
       "      <th></th>\n",
       "      <th>DATE</th>\n",
       "      <th>city</th>\n",
       "      <th>precipitation</th>\n",
       "    </tr>\n",
       "  </thead>\n",
       "  <tbody>\n",
       "    <tr>\n",
       "      <th>0</th>\n",
       "      <td>2018-01-01</td>\n",
       "      <td>PRCP_x</td>\n",
       "      <td>0.00</td>\n",
       "    </tr>\n",
       "    <tr>\n",
       "      <th>1</th>\n",
       "      <td>2018-01-02</td>\n",
       "      <td>PRCP_x</td>\n",
       "      <td>0.00</td>\n",
       "    </tr>\n",
       "    <tr>\n",
       "      <th>2</th>\n",
       "      <td>2018-01-03</td>\n",
       "      <td>PRCP_x</td>\n",
       "      <td>0.48</td>\n",
       "    </tr>\n",
       "    <tr>\n",
       "      <th>3</th>\n",
       "      <td>2018-01-04</td>\n",
       "      <td>PRCP_x</td>\n",
       "      <td>0.07</td>\n",
       "    </tr>\n",
       "    <tr>\n",
       "      <th>4</th>\n",
       "      <td>2018-01-05</td>\n",
       "      <td>PRCP_x</td>\n",
       "      <td>0.00</td>\n",
       "    </tr>\n",
       "    <tr>\n",
       "      <th>5</th>\n",
       "      <td>2018-01-06</td>\n",
       "      <td>PRCP_x</td>\n",
       "      <td>0.00</td>\n",
       "    </tr>\n",
       "    <tr>\n",
       "      <th>6</th>\n",
       "      <td>2018-01-07</td>\n",
       "      <td>PRCP_x</td>\n",
       "      <td>0.00</td>\n",
       "    </tr>\n",
       "    <tr>\n",
       "      <th>7</th>\n",
       "      <td>2018-01-08</td>\n",
       "      <td>PRCP_x</td>\n",
       "      <td>0.01</td>\n",
       "    </tr>\n",
       "    <tr>\n",
       "      <th>8</th>\n",
       "      <td>2018-01-09</td>\n",
       "      <td>PRCP_x</td>\n",
       "      <td>0.11</td>\n",
       "    </tr>\n",
       "    <tr>\n",
       "      <th>9</th>\n",
       "      <td>2018-01-10</td>\n",
       "      <td>PRCP_x</td>\n",
       "      <td>0.19</td>\n",
       "    </tr>\n",
       "  </tbody>\n",
       "</table>\n",
       "</div>"
      ],
      "text/plain": [
       "        DATE    city  precipitation\n",
       "0 2018-01-01  PRCP_x           0.00\n",
       "1 2018-01-02  PRCP_x           0.00\n",
       "2 2018-01-03  PRCP_x           0.48\n",
       "3 2018-01-04  PRCP_x           0.07\n",
       "4 2018-01-05  PRCP_x           0.00\n",
       "5 2018-01-06  PRCP_x           0.00\n",
       "6 2018-01-07  PRCP_x           0.00\n",
       "7 2018-01-08  PRCP_x           0.01\n",
       "8 2018-01-09  PRCP_x           0.11\n",
       "9 2018-01-10  PRCP_x           0.19"
      ]
     },
     "execution_count": 21,
     "metadata": {},
     "output_type": "execute_result"
    }
   ],
   "source": [
    "df.head(10)"
   ]
  },
  {
   "cell_type": "markdown",
   "id": "f3b5c7a6-2499-4461-aca1-5e15fb8cf043",
   "metadata": {},
   "source": [
    "Renaming the city values 'SEA' and 'MIA'"
   ]
  },
  {
   "cell_type": "code",
   "execution_count": 22,
   "id": "39a7c709-8fde-4eb7-bb88-1c1450056ba6",
   "metadata": {},
   "outputs": [],
   "source": [
    "df.loc[df['city'] == 'PRCP_x', 'city'] = 'MIA'"
   ]
  },
  {
   "cell_type": "code",
   "execution_count": 23,
   "id": "807b1e64-f10a-47a9-84e0-7c4233d436ea",
   "metadata": {},
   "outputs": [],
   "source": [
    "df.loc[df['city'] == 'PRCP_y', 'city'] = 'SEA'"
   ]
  },
  {
   "cell_type": "markdown",
   "id": "b113e2f0-012b-48dd-8842-c763f1e28c1a",
   "metadata": {},
   "source": [
    "Renaming the column to be lowercase"
   ]
  },
  {
   "cell_type": "code",
   "execution_count": 24,
   "id": "85cec60b-c347-4989-ab8c-00941bfcf58a",
   "metadata": {},
   "outputs": [],
   "source": [
    "df = df.rename(columns={'DATE': 'date'})"
   ]
  },
  {
   "cell_type": "code",
   "execution_count": 25,
   "id": "a8af0757-afff-4792-99af-a2984719345b",
   "metadata": {},
   "outputs": [
    {
     "name": "stdout",
     "output_type": "stream",
     "text": [
      "<class 'pandas.core.frame.DataFrame'>\n",
      "RangeIndex: 3648 entries, 0 to 3647\n",
      "Data columns (total 3 columns):\n",
      " #   Column         Non-Null Count  Dtype         \n",
      "---  ------         --------------  -----         \n",
      " 0   date           3648 non-null   datetime64[ns]\n",
      " 1   city           3648 non-null   object        \n",
      " 2   precipitation  3443 non-null   float64       \n",
      "dtypes: datetime64[ns](1), float64(1), object(1)\n",
      "memory usage: 85.6+ KB\n"
     ]
    }
   ],
   "source": [
    "df.info()"
   ]
  },
  {
   "cell_type": "markdown",
   "id": "137ff2db-6830-44ce-bcf7-3ccc9ff0990b",
   "metadata": {},
   "source": [
    "# Identifying and filling in missing values"
   ]
  },
  {
   "cell_type": "code",
   "execution_count": 26,
   "id": "98374902-5c2b-45fb-9067-bbfb3025d20d",
   "metadata": {},
   "outputs": [
    {
     "data": {
      "text/plain": [
       "date               0\n",
       "city               0\n",
       "precipitation    205\n",
       "dtype: int64"
      ]
     },
     "execution_count": 26,
     "metadata": {},
     "output_type": "execute_result"
    }
   ],
   "source": [
    "df.isna().sum()"
   ]
  },
  {
   "cell_type": "code",
   "execution_count": 27,
   "id": "1e388e19-bdb9-4d01-a793-e5f86e433788",
   "metadata": {},
   "outputs": [
    {
     "data": {
      "text/plain": [
       "np.int64(188)"
      ]
     },
     "execution_count": 27,
     "metadata": {},
     "output_type": "execute_result"
    }
   ],
   "source": [
    "df.loc[df['city'] == 'SEA', 'precipitation'].isna().sum()"
   ]
  },
  {
   "cell_type": "markdown",
   "id": "4aaa73c7-fcf0-4e88-9601-3ad16f343c1e",
   "metadata": {},
   "source": [
    "There are 188 missing precipitation values in Seattle data"
   ]
  },
  {
   "cell_type": "code",
   "execution_count": 28,
   "id": "c12abb4d-3dd0-46f2-b5e0-f851e371d979",
   "metadata": {},
   "outputs": [
    {
     "data": {
      "text/plain": [
       "np.int64(17)"
      ]
     },
     "execution_count": 28,
     "metadata": {},
     "output_type": "execute_result"
    }
   ],
   "source": [
    "df.loc[df['city'] == 'MIA', 'precipitation'].isna().sum()"
   ]
  },
  {
   "cell_type": "markdown",
   "id": "191d05b6-866f-4704-93e0-082237cb8140",
   "metadata": {},
   "source": [
    "There are 17 missing precipitation values in Miami "
   ]
  },
  {
   "cell_type": "code",
   "execution_count": 29,
   "id": "22f1dd0a-9348-48ae-bab2-79ea71247220",
   "metadata": {},
   "outputs": [],
   "source": [
    "df['day_of_year'] = pd.DatetimeIndex(df['date']).day_of_year"
   ]
  },
  {
   "cell_type": "code",
   "execution_count": 30,
   "id": "a819d12e-23aa-4bb1-b849-fad3b35c9555",
   "metadata": {},
   "outputs": [],
   "source": [
    "mean_day_precipitation_sea = df.loc[\n",
    "    df['city'] == 'SEA',\n",
    "    ['precipitation', 'day_of_year']\n",
    "].groupby(\n",
    "    'day_of_year'\n",
    ").mean()"
   ]
  },
  {
   "cell_type": "code",
   "execution_count": 31,
   "id": "9e9dea77-83af-4256-8aec-e30787309318",
   "metadata": {},
   "outputs": [],
   "source": [
    "mean_day_precipitation_mia = df.loc[\n",
    "    df['city'] == 'MIA',\n",
    "    ['precipitation', 'day_of_year']\n",
    "].groupby(\n",
    "    'day_of_year'\n",
    ").mean()"
   ]
  },
  {
   "cell_type": "code",
   "execution_count": 32,
   "id": "a164d586-0eb2-4af1-b5c5-367f9edad292",
   "metadata": {},
   "outputs": [],
   "source": [
    "indices = np.where(df['precipitation'].isna() == True)[0]"
   ]
  },
  {
   "cell_type": "code",
   "execution_count": 33,
   "id": "4c9f2095-f4c6-4b72-97d8-914ea0c1c836",
   "metadata": {
    "scrolled": true
   },
   "outputs": [
    {
     "data": {
      "text/plain": [
       "array([ 203,  204,  205,  206,  207,  208,  230,  231, 1054, 1055, 1056,\n",
       "       1057, 1058, 1059, 1060, 1061, 1062, 1832, 1833, 1834, 1835, 1836,\n",
       "       1837, 1838, 1839, 1840, 1841, 1842, 1843, 1844, 1845, 1846, 1847,\n",
       "       1848, 1849, 1850, 1851, 1852, 1853, 1854, 1855, 1856, 1857, 1858,\n",
       "       1859, 1860, 1861, 1862, 1863, 1864, 1865, 1866, 1867, 1868, 1869,\n",
       "       1870, 1871, 1872, 1873, 1874, 1875, 1876, 1877, 1878, 1879, 1880,\n",
       "       1881, 1882, 1883, 1884, 1885, 1886, 1887, 1888, 1889, 1890, 1891,\n",
       "       1892, 1893, 2088, 2129, 2130, 2131, 2132, 2133, 2134, 2135, 2136,\n",
       "       2137, 2138, 2193, 2194, 2195, 2212, 2213, 2242, 2243, 2244, 2245,\n",
       "       2246, 2247, 2284, 2285, 2286, 2360, 2361, 2366, 2367, 2368, 2369,\n",
       "       2370, 2371, 2372, 2373, 2374, 2375, 2415, 2416, 2417, 2418, 2419,\n",
       "       2420, 2421, 2515, 2516, 2517, 2518, 2519, 2520, 2521, 2522, 2557,\n",
       "       2558, 2559, 2600, 2601, 2602, 2603, 2604, 2605, 2606, 2607, 2608,\n",
       "       2609, 2610, 2816, 2817, 2818, 2819, 2820, 2821, 2822, 2823, 2824,\n",
       "       2969, 2970, 2971, 2972, 2980, 2981, 2983, 2984, 2985, 2997, 2998,\n",
       "       3001, 3002, 3003, 3004, 3005, 3008, 3009, 3010, 3011, 3012, 3013,\n",
       "       3130, 3131, 3132, 3144, 3145, 3146, 3147, 3148, 3149, 3150, 3151,\n",
       "       3152, 3153, 3154, 3155, 3156, 3157, 3158, 3159, 3359, 3360, 3361,\n",
       "       3362, 3363, 3364, 3365, 3366, 3367, 3368])"
      ]
     },
     "execution_count": 33,
     "metadata": {},
     "output_type": "execute_result"
    }
   ],
   "source": [
    "indices"
   ]
  },
  {
   "cell_type": "code",
   "execution_count": 34,
   "id": "14e81f9f-8525-4723-b43d-bcc60a8dbf75",
   "metadata": {},
   "outputs": [],
   "source": [
    "for index in indices:\n",
    "    if df.loc[index, 'city'] == \"SEA\":\n",
    "        df.loc[index, 'precipitation'] = mean_day_precipitation_sea.loc[df.loc[index, 'day_of_year']].values[0]\n",
    "    else:\n",
    "        df.loc[index, 'precipitation'] = mean_day_precipitation_mia.loc[df.loc[index, 'day_of_year']].values[0]"
   ]
  },
  {
   "cell_type": "markdown",
   "id": "3bae5a10-7235-45a2-ace7-a75e2d6877d4",
   "metadata": {},
   "source": [
    "# Check for missing values in our data"
   ]
  },
  {
   "cell_type": "code",
   "execution_count": 35,
   "id": "941047f7-6117-491f-87a1-ebabb662094b",
   "metadata": {},
   "outputs": [
    {
     "data": {
      "text/plain": [
       "date             0\n",
       "city             0\n",
       "precipitation    0\n",
       "day_of_year      0\n",
       "dtype: int64"
      ]
     },
     "execution_count": 35,
     "metadata": {},
     "output_type": "execute_result"
    }
   ],
   "source": [
    "df.isna().sum()"
   ]
  },
  {
   "attachments": {},
   "cell_type": "markdown",
   "id": "d7de3ef8-0957-40a2-8d7c-6e104ca67df0",
   "metadata": {},
   "source": [
    "No missing data\n"
   ]
  },
  {
   "cell_type": "code",
   "execution_count": null,
   "id": "734b9f42-9880-4d45-a5dc-5ba1e0ec84dd",
   "metadata": {},
   "outputs": [],
   "source": []
  },
  {
   "cell_type": "markdown",
   "id": "40eadad6-e2a6-478a-8edc-79d35512d411",
   "metadata": {},
   "source": [
    "# Plotting the daily precipitatoin for both cities"
   ]
  },
  {
   "cell_type": "code",
   "execution_count": 36,
   "id": "f7da9cf8-021c-47be-be3e-72c875cc464b",
   "metadata": {},
   "outputs": [
    {
     "data": {
      "image/png": "[encoded data removed]",
      "text/plain": [
       "<Figure size 2000x500 with 1 Axes>"
      ]
     },
     "metadata": {},
     "output_type": "display_data"
    }
   ],
   "source": [
    "plt.figure(figsize=(20, 5))\n",
    "\n",
    "sns.lineplot(data=df, x='date', y='precipitation', hue='city')\n",
    "\n",
    "plt.xlabel('Date', fontsize=15)\n",
    "plt.ylabel('Daily precipitation (inches)', fontsize=15)\n",
    "\n",
    "plt.tick_params(labelsize=15)\n",
    "\n",
    "plt.show()"
   ]
  },
  {
   "cell_type": "markdown",
   "id": "2bc74e68-2c40-4581-bc56-1a181f0bd99d",
   "metadata": {},
   "source": [
    "This graph shows the daily precipitation for Miami and Seattle from 2018 to 2023. Each line represents how much rain fell on a given day in each city. Miami’s (blue line) rainfall appears in short, intense spikes, showing that it tends to have heavier rain but less frequently. Seattle’s (orange line) rainfall is lighter and more consistent, with smaller spikes spread evenly throughout the years."
   ]
  },
  {
   "cell_type": "markdown",
   "id": "d7811b4f-7e72-4e1e-b867-f0c62ffdbd6a",
   "metadata": {},
   "source": [
    "# Computing basic numerical summaries for precipitation in each city"
   ]
  },
  {
   "cell_type": "code",
   "execution_count": 37,
   "id": "da3147f4-6aba-4486-b079-50063405e029",
   "metadata": {},
   "outputs": [
    {
     "data": {
      "text/html": [
       "<div>\n",
       "<style scoped>\n",
       "    .dataframe tbody tr th:only-of-type {\n",
       "        vertical-align: middle;\n",
       "    }\n",
       "\n",
       "    .dataframe tbody tr th {\n",
       "        vertical-align: top;\n",
       "    }\n",
       "\n",
       "    .dataframe thead tr th {\n",
       "        text-align: left;\n",
       "    }\n",
       "\n",
       "    .dataframe thead tr:last-of-type th {\n",
       "        text-align: right;\n",
       "    }\n",
       "</style>\n",
       "<table border=\"1\" class=\"dataframe\">\n",
       "  <thead>\n",
       "    <tr>\n",
       "      <th></th>\n",
       "      <th colspan=\"8\" halign=\"left\">precipitation</th>\n",
       "    </tr>\n",
       "    <tr>\n",
       "      <th></th>\n",
       "      <th>count</th>\n",
       "      <th>mean</th>\n",
       "      <th>std</th>\n",
       "      <th>min</th>\n",
       "      <th>25%</th>\n",
       "      <th>50%</th>\n",
       "      <th>75%</th>\n",
       "      <th>max</th>\n",
       "    </tr>\n",
       "    <tr>\n",
       "      <th>city</th>\n",
       "      <th></th>\n",
       "      <th></th>\n",
       "      <th></th>\n",
       "      <th></th>\n",
       "      <th></th>\n",
       "      <th></th>\n",
       "      <th></th>\n",
       "      <th></th>\n",
       "    </tr>\n",
       "  </thead>\n",
       "  <tbody>\n",
       "    <tr>\n",
       "      <th>MIA</th>\n",
       "      <td>1824.0</td>\n",
       "      <td>0.185703</td>\n",
       "      <td>0.507735</td>\n",
       "      <td>0.0</td>\n",
       "      <td>0.0</td>\n",
       "      <td>0.00</td>\n",
       "      <td>0.10</td>\n",
       "      <td>7.18</td>\n",
       "    </tr>\n",
       "    <tr>\n",
       "      <th>SEA</th>\n",
       "      <td>1824.0</td>\n",
       "      <td>0.113395</td>\n",
       "      <td>0.240618</td>\n",
       "      <td>0.0</td>\n",
       "      <td>0.0</td>\n",
       "      <td>0.01</td>\n",
       "      <td>0.12</td>\n",
       "      <td>2.60</td>\n",
       "    </tr>\n",
       "  </tbody>\n",
       "</table>\n",
       "</div>"
      ],
      "text/plain": [
       "     precipitation                                                \n",
       "             count      mean       std  min  25%   50%   75%   max\n",
       "city                                                              \n",
       "MIA         1824.0  0.185703  0.507735  0.0  0.0  0.00  0.10  7.18\n",
       "SEA         1824.0  0.113395  0.240618  0.0  0.0  0.01  0.12  2.60"
      ]
     },
     "execution_count": 37,
     "metadata": {},
     "output_type": "execute_result"
    }
   ],
   "source": [
    "df[['city', 'precipitation']].groupby('city').describe()"
   ]
  },
  {
   "cell_type": "markdown",
   "id": "03ae59eb-0952-406d-9740-41f2f1699fbd",
   "metadata": {},
   "source": [
    "Miami has a higher mean and maximum precipitation than Seattle."
   ]
  },
  {
   "cell_type": "code",
   "execution_count": null,
   "id": "cf7228b3-cb4e-433c-b7a2-48e8f33d9908",
   "metadata": {},
   "outputs": [],
   "source": []
  },
  {
   "cell_type": "code",
   "execution_count": null,
   "id": "8a7549f4-0897-4d55-a745-65dba26a460c",
   "metadata": {},
   "outputs": [],
   "source": []
  },
  {
   "cell_type": "markdown",
   "id": "21161694-0124-4377-9739-df583f66aa93",
   "metadata": {},
   "source": [
    "# Plotting the mean precipitation by month"
   ]
  },
  {
   "cell_type": "code",
   "execution_count": 38,
   "id": "bcdd3210-52ca-4958-8c92-0ac8968715ee",
   "metadata": {},
   "outputs": [],
   "source": [
    "df['month'] = pd.DatetimeIndex(df['date']).month"
   ]
  },
  {
   "cell_type": "code",
   "execution_count": 39,
   "id": "1a227d58-9559-469f-8422-3034cd5e45a0",
   "metadata": {},
   "outputs": [
    {
     "data": {
      "image/png": "[encoded data removed]",
      "text/plain": [
       "<Figure size 2000x400 with 1 Axes>"
      ]
     },
     "metadata": {},
     "output_type": "display_data"
    }
   ],
   "source": [
    "plt.figure(figsize=(20, 4))\n",
    "\n",
    "sns.barplot(data=df, x='month', y='precipitation', hue='city')\n",
    "\n",
    "plt.xlabel('Month', fontsize=15)\n",
    "plt.ylabel('Precipitation (inches)', fontsize=15)\n",
    "\n",
    "plt.tick_params(labelsize=15)\n",
    "\n",
    "import calendar\n",
    "month_names = list(calendar.month_name[1:])\n",
    "plt.xticks(ticks=range(12), labels=month_names)\n",
    "\n",
    "plt.xticks(ticks=range(12), labels=month_names)\n",
    "\n",
    "plt.show()"
   ]
  },
  {
   "cell_type": "markdown",
   "id": "88cd8bb9-50cf-4ea3-a13f-45b7d3295c76",
   "metadata": {},
   "source": [
    "This bar graph confirms that Miami receives more precipitation in the summer months (May-September), while Seattle receives more in the winter months (November-March)."
   ]
  },
  {
   "cell_type": "markdown",
   "id": "2872c25a-359e-4e8b-9552-5f2abda8cb42",
   "metadata": {},
   "source": [
    "# Plotting the proportion of days with any precipitation"
   ]
  },
  {
   "cell_type": "markdown",
   "id": "d61a06ef-4f6b-44d5-a2d3-8117ed3fec90",
   "metadata": {},
   "source": [
    "Add a new variable to the data frame indicating the year"
   ]
  },
  {
   "cell_type": "code",
   "execution_count": 40,
   "id": "ba168ca4-42db-4e6f-9103-2e4c1c920daa",
   "metadata": {},
   "outputs": [
    {
     "data": {
      "text/html": [
       "<div>\n",
       "<style scoped>\n",
       "    .dataframe tbody tr th:only-of-type {\n",
       "        vertical-align: middle;\n",
       "    }\n",
       "\n",
       "    .dataframe tbody tr th {\n",
       "        vertical-align: top;\n",
       "    }\n",
       "\n",
       "    .dataframe thead th {\n",
       "        text-align: right;\n",
       "    }\n",
       "</style>\n",
       "<table border=\"1\" class=\"dataframe\">\n",
       "  <thead>\n",
       "    <tr style=\"text-align: right;\">\n",
       "      <th></th>\n",
       "      <th>date</th>\n",
       "      <th>city</th>\n",
       "      <th>precipitation</th>\n",
       "      <th>day_of_year</th>\n",
       "      <th>month</th>\n",
       "      <th>year</th>\n",
       "    </tr>\n",
       "  </thead>\n",
       "  <tbody>\n",
       "    <tr>\n",
       "      <th>0</th>\n",
       "      <td>2018-01-01</td>\n",
       "      <td>MIA</td>\n",
       "      <td>0.00</td>\n",
       "      <td>1</td>\n",
       "      <td>1</td>\n",
       "      <td>2018</td>\n",
       "    </tr>\n",
       "    <tr>\n",
       "      <th>1</th>\n",
       "      <td>2018-01-02</td>\n",
       "      <td>MIA</td>\n",
       "      <td>0.00</td>\n",
       "      <td>2</td>\n",
       "      <td>1</td>\n",
       "      <td>2018</td>\n",
       "    </tr>\n",
       "    <tr>\n",
       "      <th>2</th>\n",
       "      <td>2018-01-03</td>\n",
       "      <td>MIA</td>\n",
       "      <td>0.48</td>\n",
       "      <td>3</td>\n",
       "      <td>1</td>\n",
       "      <td>2018</td>\n",
       "    </tr>\n",
       "    <tr>\n",
       "      <th>3</th>\n",
       "      <td>2018-01-04</td>\n",
       "      <td>MIA</td>\n",
       "      <td>0.07</td>\n",
       "      <td>4</td>\n",
       "      <td>1</td>\n",
       "      <td>2018</td>\n",
       "    </tr>\n",
       "    <tr>\n",
       "      <th>4</th>\n",
       "      <td>2018-01-05</td>\n",
       "      <td>MIA</td>\n",
       "      <td>0.00</td>\n",
       "      <td>5</td>\n",
       "      <td>1</td>\n",
       "      <td>2018</td>\n",
       "    </tr>\n",
       "  </tbody>\n",
       "</table>\n",
       "</div>"
      ],
      "text/plain": [
       "        date city  precipitation  day_of_year  month  year\n",
       "0 2018-01-01  MIA           0.00            1      1  2018\n",
       "1 2018-01-02  MIA           0.00            2      1  2018\n",
       "2 2018-01-03  MIA           0.48            3      1  2018\n",
       "3 2018-01-04  MIA           0.07            4      1  2018\n",
       "4 2018-01-05  MIA           0.00            5      1  2018"
      ]
     },
     "execution_count": 40,
     "metadata": {},
     "output_type": "execute_result"
    }
   ],
   "source": [
    "df['year'] = pd.DatetimeIndex(df['date']).year\n",
    "\n",
    "df.head()"
   ]
  },
  {
   "cell_type": "markdown",
   "id": "b1f59f94-2209-493f-8c97-c23706624562",
   "metadata": {},
   "source": [
    "Add a new variable to the data frame indicating whether precipitation occurred"
   ]
  },
  {
   "cell_type": "code",
   "execution_count": 41,
   "id": "243ad3e0-66f2-4721-8481-34195de1e38e",
   "metadata": {},
   "outputs": [],
   "source": [
    "df['any_precipitation'] = df['precipitation'] > 0"
   ]
  },
  {
   "cell_type": "code",
   "execution_count": 42,
   "id": "5acff9b6-41ff-4ef2-8ff5-9a5487425f54",
   "metadata": {},
   "outputs": [
    {
     "data": {
      "text/html": [
       "<div>\n",
       "<style scoped>\n",
       "    .dataframe tbody tr th:only-of-type {\n",
       "        vertical-align: middle;\n",
       "    }\n",
       "\n",
       "    .dataframe tbody tr th {\n",
       "        vertical-align: top;\n",
       "    }\n",
       "\n",
       "    .dataframe thead th {\n",
       "        text-align: right;\n",
       "    }\n",
       "</style>\n",
       "<table border=\"1\" class=\"dataframe\">\n",
       "  <thead>\n",
       "    <tr style=\"text-align: right;\">\n",
       "      <th></th>\n",
       "      <th>date</th>\n",
       "      <th>city</th>\n",
       "      <th>precipitation</th>\n",
       "      <th>day_of_year</th>\n",
       "      <th>month</th>\n",
       "      <th>year</th>\n",
       "      <th>any_precipitation</th>\n",
       "    </tr>\n",
       "  </thead>\n",
       "  <tbody>\n",
       "    <tr>\n",
       "      <th>0</th>\n",
       "      <td>2018-01-01</td>\n",
       "      <td>MIA</td>\n",
       "      <td>0.00</td>\n",
       "      <td>1</td>\n",
       "      <td>1</td>\n",
       "      <td>2018</td>\n",
       "      <td>False</td>\n",
       "    </tr>\n",
       "    <tr>\n",
       "      <th>1</th>\n",
       "      <td>2018-01-02</td>\n",
       "      <td>MIA</td>\n",
       "      <td>0.00</td>\n",
       "      <td>2</td>\n",
       "      <td>1</td>\n",
       "      <td>2018</td>\n",
       "      <td>False</td>\n",
       "    </tr>\n",
       "    <tr>\n",
       "      <th>2</th>\n",
       "      <td>2018-01-03</td>\n",
       "      <td>MIA</td>\n",
       "      <td>0.48</td>\n",
       "      <td>3</td>\n",
       "      <td>1</td>\n",
       "      <td>2018</td>\n",
       "      <td>True</td>\n",
       "    </tr>\n",
       "    <tr>\n",
       "      <th>3</th>\n",
       "      <td>2018-01-04</td>\n",
       "      <td>MIA</td>\n",
       "      <td>0.07</td>\n",
       "      <td>4</td>\n",
       "      <td>1</td>\n",
       "      <td>2018</td>\n",
       "      <td>True</td>\n",
       "    </tr>\n",
       "    <tr>\n",
       "      <th>4</th>\n",
       "      <td>2018-01-05</td>\n",
       "      <td>MIA</td>\n",
       "      <td>0.00</td>\n",
       "      <td>5</td>\n",
       "      <td>1</td>\n",
       "      <td>2018</td>\n",
       "      <td>False</td>\n",
       "    </tr>\n",
       "  </tbody>\n",
       "</table>\n",
       "</div>"
      ],
      "text/plain": [
       "        date city  precipitation  day_of_year  month  year  any_precipitation\n",
       "0 2018-01-01  MIA           0.00            1      1  2018              False\n",
       "1 2018-01-02  MIA           0.00            2      1  2018              False\n",
       "2 2018-01-03  MIA           0.48            3      1  2018               True\n",
       "3 2018-01-04  MIA           0.07            4      1  2018               True\n",
       "4 2018-01-05  MIA           0.00            5      1  2018              False"
      ]
     },
     "execution_count": 42,
     "metadata": {},
     "output_type": "execute_result"
    }
   ],
   "source": [
    "df.head()"
   ]
  },
  {
   "cell_type": "markdown",
   "id": "345a8456-d30f-480b-aa19-8058fb237dc5",
   "metadata": {},
   "source": [
    "Plot the proportion of days with precipitation each month"
   ]
  },
  {
   "cell_type": "code",
   "execution_count": 43,
   "id": "c52cb789-d8e4-4688-8ca3-23308fb401d4",
   "metadata": {
    "scrolled": true
   },
   "outputs": [
    {
     "data": {
      "image/png": "[encoded data removed]",
      "text/plain": [
       "<Figure size 2000x400 with 1 Axes>"
      ]
     },
     "metadata": {},
     "output_type": "display_data"
    }
   ],
   "source": [
    "plt.figure(figsize=(20, 4))\n",
    "\n",
    "sns.barplot(data=df, x='month', y='any_precipitation', hue='city')\n",
    "\n",
    "plt.xlabel(None)\n",
    "plt.ylabel('Proportion days with precipitation', fontsize=13)\n",
    "plt.xticks(ticks=range(12), labels=month_names)\n",
    "plt.tick_params(labelsize=15)\n",
    "\n",
    "plt.show()"
   ]
  },
  {
   "cell_type": "markdown",
   "id": "f927ae5a-6087-4b19-98ca-c0e819ed8792",
   "metadata": {},
   "source": [
    "The graph shows that Seattle has more days with precipitation in the winter months (November–April), while Miami has more in the summer months (June–September). This reflects Seattle’s wet winters and Miami’s rainy summer season.\n"
   ]
  },
  {
   "cell_type": "markdown",
   "id": "118eb839-2af2-4f4f-b05e-f19148a17d3f",
   "metadata": {},
   "source": [
    "# Performing a statistical test for differences in mean monthly precipitation between Miami and Seattle\n",
    "\n",
    "$$H_0: \\mu_{\\text{Seattle, January}} = \\mu_{\\text{Miami, January}}$$\n",
    "$$H_a: \\mu_{\\text{Seattle, January}} \\neq \\mu_{\\text{Miami, January}}$$\n",
    "\n",
    "$$\\vdots$$\n",
    "\n",
    "$$H_0: \\mu_{\\text{Seattle, December}} = \\mu_{\\text{Miami, December}}$$\n",
    "$$H_a: \\mu_{\\text{Seattle, December}} \\neq \\mu_{\\text{Miami, December}}$$"
   ]
  },
  {
   "cell_type": "code",
   "execution_count": 44,
   "id": "f4cfe798-a3d8-41f4-ad10-a88c10779d26",
   "metadata": {},
   "outputs": [],
   "source": [
    "from scipy import stats"
   ]
  },
  {
   "cell_type": "code",
   "execution_count": 45,
   "id": "4ec2572d-c2f7-4af6-8fb6-f8243a5881a7",
   "metadata": {},
   "outputs": [
    {
     "name": "stdout",
     "output_type": "stream",
     "text": [
      "Month 1:\n",
      "  t-statistic = 6.33\n",
      "  p-value t test = 0.000\n",
      "--------------------\n",
      "Month 2:\n",
      "  t-statistic = 2.06\n",
      "  p-value t test = 0.041\n",
      "--------------------\n",
      "Month 3:\n",
      "  t-statistic = 3.64\n",
      "  p-value t test = 0.000\n",
      "--------------------\n",
      "Month 4:\n",
      "  t-statistic = 0.04\n",
      "  p-value t test = 0.967\n",
      "--------------------\n",
      "Month 5:\n",
      "  t-statistic = -4.36\n",
      "  p-value t test = 0.000\n",
      "--------------------\n",
      "Month 6:\n",
      "  t-statistic = -4.71\n",
      "  p-value t test = 0.000\n",
      "--------------------\n",
      "Month 7:\n",
      "  t-statistic = -6.66\n",
      "  p-value t test = 0.000\n",
      "--------------------\n",
      "Month 8:\n",
      "  t-statistic = -5.93\n",
      "  p-value t test = 0.000\n",
      "--------------------\n",
      "Month 9:\n",
      "  t-statistic = -4.01\n",
      "  p-value t test = 0.000\n",
      "--------------------\n",
      "Month 10:\n",
      "  t-statistic = -1.59\n",
      "  p-value t test = 0.114\n",
      "--------------------\n",
      "Month 11:\n",
      "  t-statistic = 0.65\n",
      "  p-value t test = 0.518\n",
      "--------------------\n",
      "Month 12:\n",
      "  t-statistic = 3.28\n",
      "  p-value t test = 0.001\n",
      "--------------------\n"
     ]
    }
   ],
   "source": [
    "significance_level = 0.05\n",
    "significantly_different = np.zeros(12)\n",
    "\n",
    "for month in range(1, 13):\n",
    "    sea_data = df.loc[(df['city'] == 'SEA') & (df['month'] == month), 'precipitation']\n",
    "    mia_data = df.loc[(df['city'] == 'MIA') & (df['month'] == month), 'precipitation']\n",
    "\n",
    "    t_statistic, p_value = stats.ttest_ind(sea_data, mia_data, equal_var=False)\n",
    "\n",
    "    if p_value < significance_level:\n",
    "        significantly_different[month-1] = 1\n",
    "\n",
    "    print(f\"Month {month}:\")\n",
    "    print(f\"  t-statistic = {t_statistic:.2f}\")\n",
    "    print(f\"  p-value t test = {p_value:.3f}\")\n",
    "    print(\"-\" * 20)"
   ]
  },
  {
   "cell_type": "markdown",
   "id": "280fc344-60bc-4292-9d87-dc7d26b7c263",
   "metadata": {},
   "source": [
    "The result show significant differences in mean precipitation between Miami and Seattle in most months (Jan–Mar, May–Sep, Dec). However, April, October, and November show no significant differences, indicating similar precipitation levels during these three months."
   ]
  },
  {
   "cell_type": "markdown",
   "id": "cc2198f0-9073-44f9-ba65-15a6014f5182",
   "metadata": {},
   "source": [
    "Plotting the mean precipitation each month. (Star indicate for significant differences)"
   ]
  },
  {
   "cell_type": "code",
   "execution_count": 46,
   "id": "851006c5-c67f-4345-93e6-1ec252ac80ce",
   "metadata": {},
   "outputs": [
    {
     "data": {
      "image/png": "[encoded data removed]",
      "text/plain": [
       "<Figure size 2000x400 with 1 Axes>"
      ]
     },
     "metadata": {},
     "output_type": "display_data"
    }
   ],
   "source": [
    "plt.figure(figsize=(20, 4))\n",
    "\n",
    "sns.barplot(data=df, x='month', y='precipitation', hue='city', alpha=0.75)\n",
    "\n",
    "plt.xlabel('Month', fontsize=15)\n",
    "plt.ylabel('Precipitation (inches)', fontsize=15)\n",
    "plt.title('Mean monthly precipitation', fontsize=15)\n",
    "\n",
    "plt.tick_params(labelsize=15)\n",
    "\n",
    "plt.xticks(ticks=range(12), labels=month_names)\n",
    "\n",
    "for month in range(12):\n",
    "    if significantly_different[month] == 1:\n",
    "\n",
    "        plt.text(month, 0.43, '*', ha='center', fontsize=25)\n",
    "\n",
    "plt.show()"
   ]
  },
  {
   "cell_type": "markdown",
   "id": "227ec3ec-5457-4d1e-8446-af5e65cf14df",
   "metadata": {},
   "source": [
    "The plot compares the mean monthly precipitation between Miami (MIA) and Seattle (SEA) throughout the year.Miami gets most of its rain in the summer months, especially around June, while Seattle is rainier in the winter, from November through February. The stars above some months show where the difference between the two cities is statistically significant. Overall, the plot highlights how Miami has wet summers and dry winters, while Seattle has the opposite pattern"
   ]
  }
 ],
 "metadata": {
  "kernelspec": {
   "display_name": "Python [conda env:base] *",
   "language": "python",
   "name": "conda-base-py"
  },
  "language_info": {
   "codemirror_mode": {
    "name": "ipython",
    "version": 3
   },
   "file_extension": ".py",
   "mimetype": "text/x-python",
   "name": "python",
   "nbconvert_exporter": "python",
   "pygments_lexer": "ipython3",
   "version": "3.13.5"
  }
 },
 "nbformat": 4,
 "nbformat_minor": 5
}
